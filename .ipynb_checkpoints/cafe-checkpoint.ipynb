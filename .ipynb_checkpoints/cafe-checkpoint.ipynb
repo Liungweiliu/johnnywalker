{
 "cells": [
  {
   "cell_type": "code",
   "execution_count": 4,
   "metadata": {
    "collapsed": false,
    "nbpresent": {
     "id": "54d5e081-817f-45d3-8fdc-c3421473aa56"
    }
   },
   "outputs": [
    {
     "name": "stdout",
     "output_type": "stream",
     "text": [
      "你好，歡迎光臨咖啡廳\n",
      "請問今天需要什麼嗎？咖啡、甜點還是純聊天？\n",
      "聊天\n"
     ]
    }
   ],
   "source": [
    "print('你好，歡迎光臨咖啡廳')\n",
    "print('請問今天需要什麼嗎？咖啡、甜點還是純聊天？')\n",
    "reply=input('')"
   ]
  },
  {
   "cell_type": "code",
   "execution_count": 3,
   "metadata": {
    "collapsed": false
   },
   "outputs": [
    {
     "name": "stdout",
     "output_type": "stream",
     "text": [
      "這是我們招牌，參考看看\n"
     ]
    }
   ],
   "source": [
    "if reply:\n",
    "    print('這是我們招牌，參考看看')"
   ]
  },
  {
   "cell_type": "code",
   "execution_count": 3,
   "metadata": {
    "collapsed": false,
    "nbpresent": {
     "id": "005828ad-c8ed-48b9-bf2a-4cdd345cef83"
    }
   },
   "outputs": [],
   "source": [
    "import ipywidgets as widgets\n",
    "widgets.Widget.widget_types\n",
    "\n",
    "coffee=['曼特寧','藍山']\n",
    "if reply=='咖啡':\n",
    "    def c(x):\n",
    "        print('好的，'+'一杯'+x +'，請稍等一下')\n",
    "    \n",
    "    widgets.interact(c, x=coffee)"
   ]
  },
  {
   "cell_type": "code",
   "execution_count": 4,
   "metadata": {
    "collapsed": false
   },
   "outputs": [],
   "source": [
    "if reply=='咖啡':\n",
    "    print('你點的咖啡好了')"
   ]
  },
  {
   "cell_type": "code",
   "execution_count": 5,
   "metadata": {
    "collapsed": false
   },
   "outputs": [],
   "source": [
    "dessert=['鬆餅','蛋糕']\n",
    "if reply=='甜點':\n",
    "    def d(x):\n",
    "        print('好的，'+'一份'+x +'，請稍等一下')\n",
    "    widgets.interact(d, x=dessert)"
   ]
  },
  {
   "cell_type": "code",
   "execution_count": 6,
   "metadata": {
    "collapsed": false
   },
   "outputs": [],
   "source": [
    "if reply=='甜點':\n",
    "    print('你點的甜點好了')"
   ]
  },
  {
   "cell_type": "code",
   "execution_count": null,
   "metadata": {
    "collapsed": true
   },
   "outputs": [],
   "source": []
  },
  {
   "cell_type": "markdown",
   "metadata": {},
   "source": [
    "## 0102"
   ]
  },
  {
   "cell_type": "code",
   "execution_count": 1,
   "metadata": {
    "collapsed": false
   },
   "outputs": [
    {
     "name": "stdout",
     "output_type": "stream",
     "text": [
      "cafe：您好，歡迎光臨炎龍咖啡廳\n",
      "cafe：請問今天需要什麼嗎？咖啡、甜點還是純聊天？\n",
      "you：聊天\n",
      "cafe：聊天可以私訊炎龍老師，fb搜'蔡炎龍'就有了，再見\n"
     ]
    }
   ],
   "source": [
    "import time\n",
    "print('cafe：您好，歡迎光臨炎龍咖啡廳')\n",
    "print('cafe：請問今天需要什麼嗎？咖啡、甜點還是純聊天？')\n",
    "reply = input('you：')\n",
    "if(\"推薦\" in reply):\n",
    "    print('cafe：這是我們的招牌，您想試試看ㄇ?')\n",
    "    a1 = input(\"you：\")\n",
    "elif(\"咖啡\"in reply):\n",
    "    print(\"cafe：您要哪種咖啡呢?\")\n",
    "    a2 = input(\"you：\")\n",
    "    print(\"好的，ㄧ杯\"+a2+'，請稍等一下')\n",
    "    time.sleep(1)\n",
    "    print('你點的咖啡好了')\n",
    "elif(\"甜點\"in reply or\"點心\"in reply or\"蛋糕\"in reply):\n",
    "    print(\"cafe：您要哪種甜點呢?\")\n",
    "    a3 = input(\"you：\")\n",
    "    print(\"好的，ㄧ份\"+a3+'，請稍等一下')\n",
    "    time.sleep(1)\n",
    "    print('這是您的點心，請慢用')\n",
    "elif(\"聊天\"in reply):\n",
    "    print(\"cafe：聊天可以私訊炎龍老師，fb搜'蔡炎龍'就有了，再見\")\n",
    "else:\n",
    "    print(\"這裡沒有\"+reply+\"，直走左轉出口，感謝您的光臨\")"
   ]
  },
  {
   "cell_type": "code",
   "execution_count": null,
   "metadata": {
    "collapsed": true
   },
   "outputs": [],
   "source": []
  }
 ],
 "metadata": {
  "anaconda-cloud": {},
  "kernelspec": {
   "display_name": "Python [Root]",
   "language": "python",
   "name": "Python [Root]"
  },
  "language_info": {
   "codemirror_mode": {
    "name": "ipython",
    "version": 3
   },
   "file_extension": ".py",
   "mimetype": "text/x-python",
   "name": "python",
   "nbconvert_exporter": "python",
   "pygments_lexer": "ipython3",
   "version": "3.5.2"
  },
  "nbpresent": {
   "slides": {},
   "themes": {}
  }
 },
 "nbformat": 4,
 "nbformat_minor": 0
}
