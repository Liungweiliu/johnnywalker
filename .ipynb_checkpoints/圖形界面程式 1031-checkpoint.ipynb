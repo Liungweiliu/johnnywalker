{
 "cells": [
  {
   "cell_type": "code",
   "execution_count": 5,
   "metadata": {
    "collapsed": true
   },
   "outputs": [],
   "source": [
    "%matplotlib inline\n",
    "import numpy as np\n",
    "import matplotlib.pyplot as plt \n",
    "from ipywidgets import interact, interact_manual"
   ]
  },
  {
   "cell_type": "code",
   "execution_count": 6,
   "metadata": {
    "collapsed": true
   },
   "outputs": [],
   "source": [
    "def 甲(輸入):\n",
    "    print(輸入)"
   ]
  },
  {
   "cell_type": "code",
   "execution_count": 7,
   "metadata": {
    "collapsed": false
   },
   "outputs": [],
   "source": [
    "interact_manual(甲, 輸入=\"請輸入一個數字\");"
   ]
  },
  {
   "cell_type": "code",
   "execution_count": 8,
   "metadata": {
    "collapsed": true
   },
   "outputs": [],
   "source": [
    "def 計算BMI(身高,體重):\n",
    "    height = float(身高)/100\n",
    "    weight = float(體重)\n",
    "    bmi = weight / height**2\n",
    "    print(\"您的 BMI 是%.2f\" %bmi)"
   ]
  },
  {
   "cell_type": "code",
   "execution_count": 11,
   "metadata": {
    "collapsed": false
   },
   "outputs": [
    {
     "name": "stdout",
     "output_type": "stream",
     "text": [
      "您的 BMI 是19.37\n"
     ]
    }
   ],
   "source": [
    "計算BMI(176,60)"
   ]
  },
  {
   "cell_type": "code",
   "execution_count": 15,
   "metadata": {
    "collapsed": false
   },
   "outputs": [
    {
     "name": "stdout",
     "output_type": "stream",
     "text": [
      "您的 BMI 是19.37\n"
     ]
    }
   ],
   "source": [
    "interact_manual(計算BMI, 身高=\"請輸入你的身高(公尺)\", 體重=\"請輸入你的體重(公斤)\");"
   ]
  },
  {
   "cell_type": "code",
   "execution_count": 19,
   "metadata": {
    "collapsed": false
   },
   "outputs": [],
   "source": [
    "def 計算EPS(每股盈餘,流通股數):\n",
    "    name = input(\"請輸入公司名稱\")\n",
    "    Netincome = float(每股盈餘)\n",
    "    Outstandingshares = float(流通股數)\n",
    "    EPS = Netincome / Outstandingshares\n",
    "    print(\"這間公司的 EPS 是%.2f\" %EPS)"
   ]
  },
  {
   "cell_type": "code",
   "execution_count": 20,
   "metadata": {
    "collapsed": false
   },
   "outputs": [],
   "source": [
    "interact_manual(計算EPS, 每股盈餘=\"請輸入公司每股盈餘\", 流通股數=\"請輸入流通在外股數\");"
   ]
  },
  {
   "cell_type": "code",
   "execution_count": 21,
   "metadata": {
    "collapsed": true
   },
   "outputs": [],
   "source": [
    "from IPython.display import display\n",
    "from IPython.display import HTML, Latex"
   ]
  },
  {
   "cell_type": "code",
   "execution_count": 32,
   "metadata": {
    "collapsed": false
   },
   "outputs": [],
   "source": [
    "def 計算BMI(身高,體重):\n",
    "    height = float(身高)/100\n",
    "    weight = float(體重)\n",
    "    bmi = weight / height**2\n",
    "\n",
    "    out = \"您的BMI = %.2f\" % bmi\n",
    "    outhtml = \"<h1 style='color:#955CDB',fontsize:30pt>%s</h1>\" % out\n",
    "    display(HTML(outhtml))"
   ]
  },
  {
   "cell_type": "code",
   "execution_count": 33,
   "metadata": {
    "collapsed": false
   },
   "outputs": [
    {
     "data": {
      "text/html": [
       "<h1 style='color:#955CDB',fontsize:30pt>您的BMI = 24.75</h1>"
      ],
      "text/plain": [
       "<IPython.core.display.HTML object>"
      ]
     },
     "metadata": {},
     "output_type": "display_data"
    }
   ],
   "source": [
    "interact_manual(計算BMI, 身高=\"請輸入你的身高(公尺)\", 體重=\"請輸入你的體重(公斤)\");"
   ]
  },
  {
   "cell_type": "code",
   "execution_count": null,
   "metadata": {
    "collapsed": true
   },
   "outputs": [],
   "source": []
  }
 ],
 "metadata": {
  "kernelspec": {
   "display_name": "Python [Root]",
   "language": "python",
   "name": "Python [Root]"
  },
  "language_info": {
   "codemirror_mode": {
    "name": "ipython",
    "version": 3
   },
   "file_extension": ".py",
   "mimetype": "text/x-python",
   "name": "python",
   "nbconvert_exporter": "python",
   "pygments_lexer": "ipython3",
   "version": "3.5.2"
  }
 },
 "nbformat": 4,
 "nbformat_minor": 0
}
