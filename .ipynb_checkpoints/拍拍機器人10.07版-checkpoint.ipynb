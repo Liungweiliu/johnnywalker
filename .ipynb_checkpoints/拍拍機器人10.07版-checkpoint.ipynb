{
 "cells": [
  {
   "cell_type": "code",
   "execution_count": 5,
   "metadata": {
    "collapsed": false
   },
   "outputs": [
    {
     "name": "stdout",
     "output_type": "stream",
     "text": [
      "這杯咖啡喝起來怎麼樣?有點過萃，一定是你沖的\n",
      "你喝剛好拉\n",
      "我也這麼覺得\n",
      "我也這麼覺得\n",
      "我也這麼覺得\n",
      "我也這麼覺得\n"
     ]
    }
   ],
   "source": [
    "爛咖啡 = [\"過萃\", \"油耗味\", \"卡喉\", \"難喝\", \"好苦\"]\n",
    "message = input(\"這杯咖啡喝起來怎麼樣?\")\n",
    "\n",
    "for i in 爛咖啡:\n",
    "    if i in message:\n",
    "        print(\"你喝剛好拉\")\n",
    "    else:\n",
    "        print(\"我也這麼覺得\")"
   ]
  },
  {
   "cell_type": "code",
   "execution_count": 6,
   "metadata": {
    "collapsed": false
   },
   "outputs": [
    {
     "name": "stdout",
     "output_type": "stream",
     "text": [
      "這杯咖啡喝起來怎麼樣?噁心\n",
      "我也這麼覺得\n"
     ]
    }
   ],
   "source": [
    "爛咖啡 = [\"過萃\", \"油耗味\", \"卡喉\", \"難喝\", \"好苦\"]\n",
    "message = input(\"這杯咖啡喝起來怎麼樣?\")\n",
    "\n",
    "for i in 爛咖啡:\n",
    "    if i in message:\n",
    "        print(\"你喝剛好拉\")\n",
    "        break;\n",
    "    else:\n",
    "        print(\"我也這麼覺得\")\n",
    "        break;"
   ]
  },
  {
   "cell_type": "markdown",
   "metadata": {},
   "source": [
    "# Break; 使用範例\n",
    "# 不用break 就會跑list中元素數量的回應(而且不會重問)"
   ]
  },
  {
   "cell_type": "code",
   "execution_count": null,
   "metadata": {
    "collapsed": true
   },
   "outputs": [],
   "source": [
    "爛咖啡 = [\"過萃\", \"油耗味\", \"卡喉\", \"難喝\", \"好苦\"]\n",
    "好咖啡 = [\"神作\", \"太會了八\" ,\"好喝\" ,\"挖尬意\"]\n",
    "message = input(\"這杯咖啡喝起來怎麼樣?\")\n",
    "\n",
    "for i in 爛咖啡:\n",
    "    if i in message:\n",
    "        print(\"你喝剛好拉\")\n",
    "        break;\n",
    "    \n",
    "    else:\n",
    "        print(\"我也這麼覺得\")\n",
    "        break;\n",
    "for i in 好咖啡:\n",
    "    if i in message:\n",
    "        print(\"\")"
   ]
  }
 ],
 "metadata": {
  "anaconda-cloud": {},
  "kernelspec": {
   "display_name": "Python [Root]",
   "language": "python",
   "name": "Python [Root]"
  },
  "language_info": {
   "codemirror_mode": {
    "name": "ipython",
    "version": 3
   },
   "file_extension": ".py",
   "mimetype": "text/x-python",
   "name": "python",
   "nbconvert_exporter": "python",
   "pygments_lexer": "ipython3",
   "version": "3.5.2"
  }
 },
 "nbformat": 4,
 "nbformat_minor": 0
}
