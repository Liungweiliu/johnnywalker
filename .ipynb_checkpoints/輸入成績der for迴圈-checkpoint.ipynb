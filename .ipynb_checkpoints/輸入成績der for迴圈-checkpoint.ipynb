{
 "cells": [
  {
   "cell_type": "code",
   "execution_count": 12,
   "metadata": {
    "collapsed": true
   },
   "outputs": [],
   "source": [
    "g = []"
   ]
  },
  {
   "cell_type": "code",
   "execution_count": 13,
   "metadata": {
    "collapsed": false
   },
   "outputs": [
    {
     "name": "stdout",
     "output_type": "stream",
     "text": [
      "52\n",
      "54\n",
      "85\n",
      "45\n",
      "78\n"
     ]
    }
   ],
   "source": [
    "for i in range(5):\n",
    "    a = input(\"\")\n",
    "    g.append(a)       "
   ]
  },
  {
   "cell_type": "code",
   "execution_count": 14,
   "metadata": {
    "collapsed": false
   },
   "outputs": [
    {
     "data": {
      "text/plain": [
       "['52', '54', '85', '45', '78']"
      ]
     },
     "execution_count": 14,
     "metadata": {},
     "output_type": "execute_result"
    }
   ],
   "source": [
    "g"
   ]
  },
  {
   "cell_type": "code",
   "execution_count": 16,
   "metadata": {
    "collapsed": false
   },
   "outputs": [
    {
     "name": "stdout",
     "output_type": "stream",
     "text": [
      "請問你的成績是多少?? 85\n",
      "請問你的成績是多少?? 98\n",
      "請問你的成績是多少?? 78\n",
      "請問你的成績是多少?? 87\n",
      "請問你的成績是多少?? 85\n",
      "平均 = 86.60\n"
     ]
    }
   ],
   "source": [
    "grades = []\n",
    "s = 0\n",
    "for i in range(5):\n",
    "    a = input(\"請問你的成績是多少?? \")\n",
    "    a = float(a)\n",
    "    s = s + a\n",
    "    grades.append(a)\n",
    "print(\"平均 = %.2f\" % (s/5))"
   ]
  },
  {
   "cell_type": "code",
   "execution_count": 17,
   "metadata": {
    "collapsed": false
   },
   "outputs": [
    {
     "name": "stdout",
     "output_type": "stream",
     "text": [
      "請問你的成績是多少80\n",
      "過了呦\n",
      "那麼厲害\n",
      "就給你偷讀就好啦\n"
     ]
    }
   ],
   "source": [
    "s = float(input(\"請問你的成績是多少\"))\n",
    "if s>=60:\n",
    "    print(\"過了呦\")\n",
    "    print(\"那麼厲害\")\n",
    "    print(\"就給你偷讀就好啦\")\n",
    "else:\n",
    "    print(\"拍拍\")\n",
    "    print(\"今年不作弊 明年當學弟\")\n",
    "    print(\"重修就好\")\n",
    "    print(\"當你當妳 也能成為嗜好\")\n",
    "    "
   ]
  },
  {
   "cell_type": "code",
   "execution_count": 23,
   "metadata": {
    "collapsed": false
   },
   "outputs": [
    {
     "name": "stdout",
     "output_type": "stream",
     "text": [
      "輸入你想說的話我現在沒錢但我肚子超餓\n",
      "拍拍\n"
     ]
    }
   ],
   "source": [
    "message = input(\"輸入你想說的話\")\n",
    "if (\"難過\" in message)|(\"沒錢\" in message):\n",
    "    print(\"拍拍\")\n",
    "elif (\"肚子超餓\" in message):\n",
    "    print(\"要吃什麼?\")\n",
    "else:\n",
    "    print(\"聽起來不錯\")"
   ]
  },
  {
   "cell_type": "code",
   "execution_count": null,
   "metadata": {
    "collapsed": true
   },
   "outputs": [],
   "source": []
  }
 ],
 "metadata": {
  "kernelspec": {
   "display_name": "Python [Root]",
   "language": "python",
   "name": "Python [Root]"
  },
  "language_info": {
   "codemirror_mode": {
    "name": "ipython",
    "version": 3
   },
   "file_extension": ".py",
   "mimetype": "text/x-python",
   "name": "python",
   "nbconvert_exporter": "python",
   "pygments_lexer": "ipython3",
   "version": "3.5.2"
  }
 },
 "nbformat": 4,
 "nbformat_minor": 0
}
