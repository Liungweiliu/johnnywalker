{
 "cells": [
  {
   "cell_type": "code",
   "execution_count": 2,
   "metadata": {
    "collapsed": false
   },
   "outputs": [
    {
     "name": "stdout",
     "output_type": "stream",
     "text": [
      "<__main__.Person object at 0x0000004735614438>\n"
     ]
    }
   ],
   "source": [
    "class Person:\n",
    "    pass\n",
    "p = Person()\n",
    "print(p)"
   ]
  },
  {
   "cell_type": "code",
   "execution_count": 3,
   "metadata": {
    "collapsed": true
   },
   "outputs": [],
   "source": [
    "#method 在class內\n",
    "#function 在class外"
   ]
  },
  {
   "cell_type": "code",
   "execution_count": 5,
   "metadata": {
    "collapsed": false
   },
   "outputs": [],
   "source": [
    "class Person:\n",
    "    def set_name(self,name):\n",
    "        self.name = name\n",
    "        \n",
    "    def smile(self):\n",
    "        print(\"我是{}，開始笑囉!\",format(self.name))"
   ]
  },
  {
   "cell_type": "code",
   "execution_count": 7,
   "metadata": {
    "collapsed": false
   },
   "outputs": [],
   "source": [
    "p=Person()\n",
    "p.set_name(\"walker\")"
   ]
  },
  {
   "cell_type": "code",
   "execution_count": 12,
   "metadata": {
    "collapsed": false
   },
   "outputs": [
    {
     "name": "stdout",
     "output_type": "stream",
     "text": [
      "我是Walker，爽朗的笑\n"
     ]
    }
   ],
   "source": [
    "p.smile()"
   ]
  },
  {
   "cell_type": "code",
   "execution_count": 11,
   "metadata": {
    "collapsed": false
   },
   "outputs": [
    {
     "name": "stdout",
     "output_type": "stream",
     "text": [
      "我是Walker，爽朗的笑\n"
     ]
    }
   ],
   "source": [
    "#封裝\n",
    "class Person:\n",
    "    def __init__(self, name):\n",
    "        self.__name = name\n",
    "    \n",
    "    def set_name(self,name):\n",
    "        self.name = name\n",
    "    def get_name(self):\n",
    "        return self.__name\n",
    "    \n",
    "    def smile(self):\n",
    "        print(\"我是{}，爽朗的笑\".format(self.__name))\n",
    "p = Person(\"Walker\")\n",
    "p.smile()"
   ]
  },
  {
   "cell_type": "code",
   "execution_count": 14,
   "metadata": {
    "collapsed": false
   },
   "outputs": [
    {
     "name": "stdout",
     "output_type": "stream",
     "text": [
      "我是twist fate，爽朗的笑\n",
      "嗨嗨~\n",
      "我是teemo，爽朗的笑\n",
      "歐齁\n"
     ]
    }
   ],
   "source": [
    "class Man(Person):\n",
    "    def hi(self):\n",
    "        print(\"嗨嗨~\")\n",
    "class Woman(Person):\n",
    "    def hi(self):\n",
    "        print(\"歐齁\")\n",
    "man = Man(\"twist fate\")\n",
    "man.smile()\n",
    "man.hi()\n",
    "Woman = Woman(\"teemo\")\n",
    "Woman.smile()\n",
    "Woman.hi()\n"
   ]
  },
  {
   "cell_type": "code",
   "execution_count": 16,
   "metadata": {
    "collapsed": false
   },
   "outputs": [
    {
     "name": "stdout",
     "output_type": "stream",
     "text": [
      "我是twist fate，早安\n",
      "我是teemo，安安\n"
     ]
    }
   ],
   "source": [
    "##method overriding覆載\n",
    "class Man(Person):\n",
    "    def smile(self):\n",
    "        print (\"我是{}，早安\".format(self.get_name()))\n",
    "class Woman(Person):\n",
    "    def smile(self):\n",
    "        print(\"我是{}，安安\".format(self.get_name()))\n",
    "man = Man(\"twist fate\")\n",
    "man.smile()\n",
    "\n",
    "Woman = Woman(\"teemo\")\n",
    "Woman.smile()"
   ]
  },
  {
   "cell_type": "code",
   "execution_count": 21,
   "metadata": {
    "collapsed": false
   },
   "outputs": [],
   "source": [
    "class SchoolMember:\n",
    "    '''Represents any school member.'''\n",
    "    def __init__(self, name, age):\n",
    "        self.name = name\n",
    "        self.age = age\n",
    "        \n",
    "        print('(Initialized SchoolMember: {})',format(self.name))\n",
    "    \n",
    "    def tell(self):\n",
    "        '''tel my details'''\n",
    "        print('(Initialized SchoolMember: {})',format(self.age))"
   ]
  },
  {
   "cell_type": "code",
   "execution_count": 26,
   "metadata": {
    "collapsed": false
   },
   "outputs": [],
   "source": [
    "class Teacher(SchoolMember):\n",
    "    '''Represent teachers'''\n",
    "    def __init__(self, name, salary):\n",
    "        schoolmember.__init__(self, name, age)\n",
    "        self.salary =  salary\n",
    "        print('(Initialized SchoolMember: {})').format(self.name())\n",
    "    def tell(salary):\n",
    "        print('(Initialized SchoolMember: {})',format(self.salary()))"
   ]
  },
  {
   "cell_type": "code",
   "execution_count": null,
   "metadata": {
    "collapsed": true
   },
   "outputs": [],
   "source": []
  }
 ],
 "metadata": {
  "kernelspec": {
   "display_name": "Python [Root]",
   "language": "python",
   "name": "Python [Root]"
  },
  "language_info": {
   "codemirror_mode": {
    "name": "ipython",
    "version": 3
   },
   "file_extension": ".py",
   "mimetype": "text/x-python",
   "name": "python",
   "nbconvert_exporter": "python",
   "pygments_lexer": "ipython3",
   "version": "3.5.2"
  }
 },
 "nbformat": 4,
 "nbformat_minor": 0
}
