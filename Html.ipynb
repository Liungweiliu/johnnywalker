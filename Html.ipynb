{
 "cells": [
  {
   "cell_type": "markdown",
   "metadata": {},
   "source": [
    "# 時間到底是什麼\n",
    "<div>在家裡的時候，\n",
    "牠就會慢慢變老\n",
    "時間像貓咪\n",
    "當牠離家出走的時候\n",
    "就不會再回來\n",
    "因為牠回不來。</div>\n",
    "\n",
    "<span>種籽親子實驗國民小學 言青</span>"
   ]
  },
  {
   "cell_type": "code",
   "execution_count": 1,
   "metadata": {
    "collapsed": true
   },
   "outputs": [],
   "source": [
    "from IPython.display import display\n",
    "from IPython.display import HTML, Latex"
   ]
  },
  {
   "cell_type": "markdown",
   "metadata": {},
   "source": [
    "# 時間到底是什麼\n",
    "display(HTML('<h2>種籽親子實驗國民小學 言青</h2>\"))\n",
    "<span>種籽親子實驗國民小學 言青</span>\n",
    "<p>在家裡的時候，<p>\n",
    "<p>牠就會慢慢變老<p>\n",
    "<p>時間像貓咪<p>\n",
    "<p>當牠離家出走的時候<p>\n",
    "<p>就不會再回來<p>\n",
    "<p>因為牠回不來。<p>\n",
    "\n",
    "<a href=\"https://www.facebook.com/seedling.tw/photos/a.555967571137946.1073741879.195105910557449/1133091716758859/?type=3&theater\">資料來源</a>\n",
    "<p>https://www.facebook.com/seedling.tw/photos/a.555967571137946.1073741879.195105910557449/1133091716758859/?type=3&theater<p>\n"
   ]
  },
  {
   "cell_type": "code",
   "execution_count": 3,
   "metadata": {
    "collapsed": false
   },
   "outputs": [
    {
     "ename": "SyntaxError",
     "evalue": "EOL while scanning string literal (<ipython-input-3-fc2b692d0ca5>, line 1)",
     "output_type": "error",
     "traceback": [
      "\u001b[1;36m  File \u001b[1;32m\"<ipython-input-3-fc2b692d0ca5>\"\u001b[1;36m, line \u001b[1;32m1\u001b[0m\n\u001b[1;33m    display(HTML('<h2>種籽親子實驗國民小學 言青</h2>\"))\u001b[0m\n\u001b[1;37m                                           ^\u001b[0m\n\u001b[1;31mSyntaxError\u001b[0m\u001b[1;31m:\u001b[0m EOL while scanning string literal\n"
     ]
    }
   ],
   "source": [
    "<a href=\"https://www.facebook.com/seedling.tw/photos/a.555967571137946.1073741879.195105910557449/1133091716758859/?type=3&theater\">政大咖啡社粉專</a>\n"
   ]
  },
  {
   "cell_type": "code",
   "execution_count": 4,
   "metadata": {
    "collapsed": false
   },
   "outputs": [
    {
     "ename": "NameError",
     "evalue": "name 'swipt' is not defined",
     "output_type": "error",
     "traceback": [
      "\u001b[1;31m---------------------------------------------------------------------------\u001b[0m",
      "\u001b[1;31mNameError\u001b[0m                                 Traceback (most recent call last)",
      "\u001b[1;32m<ipython-input-4-049af0cea315>\u001b[0m in \u001b[0;36m<module>\u001b[1;34m()\u001b[0m\n\u001b[1;32m----> 1\u001b[1;33m \u001b[0mswipt\u001b[0m\u001b[1;33m.\u001b[0m\u001b[0mto\u001b[0m\u001b[1;33m\u001b[0m\u001b[0m\n\u001b[0m",
      "\u001b[1;31mNameError\u001b[0m: name 'swipt' is not defined"
     ]
    }
   ],
   "source": []
  },
  {
   "cell_type": "code",
   "execution_count": null,
   "metadata": {
    "collapsed": true
   },
   "outputs": [],
   "source": []
  }
 ],
 "metadata": {
  "anaconda-cloud": {},
  "kernelspec": {
   "display_name": "Python [Root]",
   "language": "python",
   "name": "Python [Root]"
  },
  "language_info": {
   "codemirror_mode": {
    "name": "ipython",
    "version": 3
   },
   "file_extension": ".py",
   "mimetype": "text/x-python",
   "name": "python",
   "nbconvert_exporter": "python",
   "pygments_lexer": "ipython3",
   "version": "3.5.2"
  }
 },
 "nbformat": 4,
 "nbformat_minor": 0
}
