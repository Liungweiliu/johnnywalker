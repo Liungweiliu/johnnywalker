{
 "cells": [
  {
   "cell_type": "code",
   "execution_count": 3,
   "metadata": {
    "collapsed": false
   },
   "outputs": [],
   "source": [
    "%matplotlib inline\n",
    "import numpy as np\n",
    "import matplotlib.pyplot as plt\n",
    "import pandas as pd"
   ]
  },
  {
   "cell_type": "code",
   "execution_count": 4,
   "metadata": {
    "collapsed": true
   },
   "outputs": [],
   "source": [
    "from sympy import *"
   ]
  },
  {
   "cell_type": "markdown",
   "metadata": {},
   "source": [
    "## Q1. çæ¸å­éæ²\n",
    "\n",
    "é»è",
    "¦èªå·±å¾ 1-100 é¸ä¸åæ¸å­, è«ä½ è¼¸å",
    "¥, è¦åè¨´ä½ å¤ªå¤§æå¤ªå°, ç´å°ä½ çå°ã"
   ]
  },
  {
   "cell_type": "code",
   "execution_count": 10,
   "metadata": {
    "collapsed": false
   },
   "outputs": [
    {
     "name": "stdout",
     "output_type": "stream",
     "text": [
      "ä¾ç\n",
      "10\n",
      "çé¯åï¼å¤ªå°\n",
      "ä¾ç\n",
      "50\n",
      "çé¯åï¼å¤ªå°\n",
      "ä¾ç\n",
      "80\n",
      "çé¯åï¼å¤ªå¤§\n",
      "ä¾ç\n",
      "70\n",
      "çé¯åï¼å¤ªå¤§\n",
      "ä¾ç\n",
      "60\n",
      "çé¯åï¼å¤ªå¤§\n",
      "ä¾ç\n",
      "55\n",
      "çå°åï¼å¾æ£\n"
     ]
    }
   ],
   "source": [
    "numbers = np.random.randint(1,100)\n",
    "guesswhat = 0\n",
    "while guesswhat < 1:\n",
    "    print(\"ä¾ç\")\n",
    "    guess = input()\n",
    "    guess =int(guess)\n",
    "    if guess < numbers:\n",
    "        print(\"çé¯åï¼å¤ªå°\")\n",
    "    if guess == numbers:\n",
    "        break\n",
    "    if guess > numbers:\n",
    "        print(\"çé¯åï¼å¤ªå¤§\")\n",
    "if guess ==numbers:\n",
    "    print(\"çå°åï¼å¾æ£\")\n",
    "if guess != numbers:\n",
    "    print(\"çé¯åï¼87\")"
   ]
  },
  {
   "cell_type": "markdown",
   "metadata": {},
   "source": [
    "## Q2. å¹¾ A å¹¾ B çæ¸å­\n",
    "\n",
    "é»è",
    "¦å¾ 0-9 é¸ååä¸éè¦çæ¸å­, ä»»ææåãä½ å¨ä¸ç¥æ­£ç¢ºç­æ¡çæ",
    "æ³ä¸åè¨´é»è",
    "¦ä½ ççæ¸å­, é»è",
    "¦æåæä½ å¹¾ A å¹¾ Bãä¸ç´ç©å°å®å",
    "¨çå° (4A) çºæ­¢ã"
   ]
  },
  {
   "cell_type": "code",
   "execution_count": null,
   "metadata": {
    "collapsed": true
   },
   "outputs": [],
   "source": []
  },
  {
   "cell_type": "markdown",
   "metadata": {},
   "source": [
    "## Q3. ç¨ `pandas` è£½ä½èª²è¡¨æè®æ¸è¨ç«è¡¨\n",
    "\n",
    "ç¨ `pandas` è£½ä½éå­¸æçèª²è¡¨ææ¯ææ«èçè®æ¸è¨ç«è¡¨, ä¸¦ä¸å²å­çº Excel çæªæ¡ã"
   ]
  },
  {
   "cell_type": "code",
   "execution_count": 14,
   "metadata": {
    "collapsed": false
   },
   "outputs": [
    {
     "data": {
      "text/html": [
       "<div>\n",
       "<table border=\"1\" class=\"dataframe\">\n",
       "  <thead>\n",
       "    <tr style=\"text-align: right;\">\n",
       "      <th></th>\n",
       "      <th>ä¸</th>\n",
       "      <th>äº</th>\n",
       "      <th>ä¸</th>\n",
       "      <th>å</th>\n",
       "      <th>äº</th>\n",
       "    </tr>\n",
       "  </thead>\n",
       "  <tbody>\n",
       "    <tr>\n",
       "      <th>1</th>\n",
       "      <td></td>\n",
       "      <td></td>\n",
       "      <td></td>\n",
       "      <td></td>\n",
       "      <td></td>\n",
       "    </tr>\n",
       "    <tr>\n",
       "      <th>2</th>\n",
       "      <td></td>\n",
       "      <td>é«ç´æè¨å­¸</td>\n",
       "      <td></td>\n",
       "      <td>ä¸­ç´æè¨å­¸</td>\n",
       "      <td>æè³å­¸</td>\n",
       "    </tr>\n",
       "    <tr>\n",
       "      <th>3</th>\n",
       "      <td></td>\n",
       "      <td>é«ç´æè¨å­¸</td>\n",
       "      <td></td>\n",
       "      <td>ä¸­ç´æè¨å­¸</td>\n",
       "      <td>æè³å­¸</td>\n",
       "    </tr>\n",
       "    <tr>\n",
       "      <th>4</th>\n",
       "      <td></td>\n",
       "      <td>é«ç´æè¨å­¸</td>\n",
       "      <td></td>\n",
       "      <td>ä¸­ç´æè¨å­¸</td>\n",
       "      <td>æè³å­¸</td>\n",
       "    </tr>\n",
       "    <tr>\n",
       "      <th>C</th>\n",
       "      <td></td>\n",
       "      <td></td>\n",
       "      <td></td>\n",
       "      <td></td>\n",
       "      <td></td>\n",
       "    </tr>\n",
       "    <tr>\n",
       "      <th>D</th>\n",
       "      <td>AIS</td>\n",
       "      <td></td>\n",
       "      <td></td>\n",
       "      <td>åç´æ¥æ</td>\n",
       "      <td></td>\n",
       "    </tr>\n",
       "    <tr>\n",
       "      <th>5</th>\n",
       "      <td>AIS</td>\n",
       "      <td></td>\n",
       "      <td></td>\n",
       "      <td>åç´æ¥æ</td>\n",
       "      <td></td>\n",
       "    </tr>\n",
       "    <tr>\n",
       "      <th>6</th>\n",
       "      <td>AIS</td>\n",
       "      <td></td>\n",
       "      <td></td>\n",
       "      <td>åç´æ¥æ</td>\n",
       "      <td></td>\n",
       "    </tr>\n",
       "    <tr>\n",
       "      <th>7</th>\n",
       "      <td>æ¸å­¸è»é«æç¨</td>\n",
       "      <td>ç­ç¥é¢¨éªç®¡ç</td>\n",
       "      <td></td>\n",
       "      <td></td>\n",
       "      <td></td>\n",
       "    </tr>\n",
       "    <tr>\n",
       "      <th>8</th>\n",
       "      <td>æ¸å­¸è»é«æç¨</td>\n",
       "      <td>ç­ç¥é¢¨éªç®¡ç</td>\n",
       "      <td></td>\n",
       "      <td></td>\n",
       "      <td></td>\n",
       "    </tr>\n",
       "    <tr>\n",
       "      <th>E</th>\n",
       "      <td>æ¸å­¸è»é«æç¨</td>\n",
       "      <td>ç­ç¥é¢¨éªç®¡ç</td>\n",
       "      <td></td>\n",
       "      <td></td>\n",
       "      <td></td>\n",
       "    </tr>\n",
       "  </tbody>\n",
       "</table>\n",
       "</div>"
      ],
      "text/plain": [
       "        ä¸       äº  ä¸      å    äº\n",
       "1                               \n",
       "2           é«ç´æè¨å­¸     ä¸­ç´æè¨å­¸  æè³å­¸\n",
       "3           é«ç´æè¨å­¸     ä¸­ç´æè¨å­¸  æè³å­¸\n",
       "4           é«ç´æè¨å­¸     ä¸­ç´æè¨å­¸  æè³å­¸\n",
       "C                               \n",
       "D     AIS              åç´æ¥æ     \n",
       "5     AIS              åç´æ¥æ     \n",
       "6     AIS              åç´æ¥æ     \n",
       "7  æ¸å­¸è»é«æç¨  ç­ç¥é¢¨éªç®¡ç               \n",
       "8  æ¸å­¸è»é«æç¨  ç­ç¥é¢¨éªç®¡ç               \n",
       "E  æ¸å­¸è»é«æç¨  ç­ç¥é¢¨éªç®¡ç               "
      ]
     },
     "execution_count": 14,
     "metadata": {},
     "output_type": "execute_result"
    }
   ],
   "source": [
    "df = pd.DataFrame([[\" \",\" \",\" \",\" \",\" \"],\n",
    "                   [\" \",'é«ç´æè¨å­¸',\" \",'ä¸­ç´æè¨å­¸','æè³å­¸'],\n",
    "                   [\" \",'é«ç´æè¨å­¸',\" \",'ä¸­ç´æè¨å­¸','æè³å­¸'],\n",
    "                   [\" \",'é«ç´æè¨å­¸',\" \",'ä¸­ç´æè¨å­¸','æè³å­¸'],\n",
    "                   [\" \",\" \",\" \",\" \",\" \"],\n",
    "                   ['AIS',\" \",\" \",'åç´æ¥æ',\" \"],\n",
    "                   ['AIS',\" \",\" \",'åç´æ¥æ',\" \"],\n",
    "                   ['AIS',\" \",\" \",'åç´æ¥æ',\" \"],\n",
    "                   ['æ¸å­¸è»é«æç¨','ç­ç¥é¢¨éªç®¡ç',\" \",\" \",\" \"],\n",
    "                   ['æ¸å­¸è»é«æç¨','ç­ç¥é¢¨éªç®¡ç',\" \",\" \",\" \"],\n",
    "                   ['æ¸å­¸è»é«æç¨','ç­ç¥é¢¨éªç®¡ç',\" \",\" \",\" \"]],columns=['ä¸','äº','ä¸','å','äº'],index =['1','2','3','4','C','D','5','6','7','8','E'])\n",
    "df"
   ]
  },
  {
   "cell_type": "code",
   "execution_count": 15,
   "metadata": {
    "collapsed": true
   },
   "outputs": [],
   "source": [
    "writer = pd.ExcelWriter('pandas_simple.xlsx', engine='xlsxwriter')\n",
    "df.to_excel(writer, sheet_name='Sheet1')\n",
    "writer.save()"
   ]
  },
  {
   "cell_type": "markdown",
   "metadata": {
    "collapsed": true
   },
   "source": [
    "## Q4. ç¨ Inkscape ç¹ªå\n",
    "\n",
    "ç¨ Inkscape ç«åºä¸å¼µå¯æçå, ç¶å¾ä¸å³è³[Imgur](http://imgur.com/)ä¹é¡å¯ä»¥è®ä½ ç´æ¥é£åçç©ºéãå¨ Imgur çè©±é»åå¾æå³éµè¤è£½åçä½å, åå©ç¨ `IPython.display` å°åç§å¨éè£¡ã"
   ]
  },
  {
   "cell_type": "code",
   "execution_count": null,
   "metadata": {
    "collapsed": true
   },
   "outputs": [],
   "source": []
  },
  {
   "cell_type": "markdown",
   "metadata": {},
   "source": [
    "## Q5. çå½å¯ç¢¼\n",
    "\n",
    "çå½å¯ç¢¼çè«èªªä½ çæ¥ææçä½æ¸å èµ·ä¾, ç´å°åªå©ä¸åä½æ¸æå°±æ¯ä½ ççå½å¯ç¢¼ã\n",
    "\n",
    "#### ä¾å­\n",
    "åå¦Aå¤¢ççæ¥æ¯ã2112å¹´9æ3æ¥ã, æåç¶ç¶å¯ä»¥è¨çº `21120903` (éç¶å¨æ­¤ä¸æ¯éé»)ãæä»¥ç®ç®åå¦Aå¤¢ççå½å¯ç¢¼æ¯\n",
    "\n",
    "    2 + 1 + 1 + 2 + 0 + 9 + 0 + 3 = 18\n",
    "    \n",
    "å çºéæå",
    "©ä½æ¸, æä»¥æååå \n",
    "\n",
    "    1 + 8 = 9\n",
    "    \n",
    "å æ­¤ 9 å°±æ¯åå¦Aå¤¢ççå½å¯ç¢¼ã\n",
    "\n",
    "ç¨ Python å¯«åç¨å¼, è¼¸å",
    "¥ä¸åäººçåºçå¹´ææ¥, æ±ä»ççå½å¯ç¢¼!"
   ]
  },
  {
   "cell_type": "code",
   "execution_count": null,
   "metadata": {
    "collapsed": true
   },
   "outputs": [],
   "source": []
  },
  {
   "cell_type": "markdown",
   "metadata": {},
   "source": [
    "## Q6. è®å",
    "¥ææ¯è¡ç¥¨å»å¹´è³ä»çæ¶ç¤å¹\n",
    "\n",
    "è®å",
    "¥ä¸æ¯ç¾åè¡ç¥¨ (ä½ èªå·±é¸è¦åªä¸æ¯), ç¶å¾ç«åºä»èªå»å¹´ 1 æ 1 æ¥èµ·å°ä»å¤©çæ¶ç¤å¹ã\n",
    "\n",
    "ä½ ç Azure Notebooks å¦æéæ²è£ `pandas-datareader`, éè¦å·è¡ä¸é¢éä¸æ­¥ãä¸å Library å·è¡ä¸æ¬¡å°±å¯ä»¥ã"
   ]
  },
  {
   "cell_type": "code",
   "execution_count": 11,
   "metadata": {
    "collapsed": false
   },
   "outputs": [
    {
     "name": "stdout",
     "output_type": "stream",
     "text": [
      "Fetching package metadata .......\n",
      "Solving package specifications: ..........\n",
      "\n",
      "Package plan for installation in environment /home/nbcommon/anaconda3_410:\n",
      "\n",
      "The following packages will be downloaded:\n",
      "\n",
      "    package                    |            build\n",
      "    ---------------------------|-----------------\n",
      "    requests-file-1.4.1        |           py35_0           6 KB\n",
      "    pandas-datareader-0.2.1    |           py35_0          49 KB\n",
      "    ------------------------------------------------------------\n",
      "                                           Total:          55 KB\n",
      "\n",
      "The following NEW packages will be INSTALLED:\n",
      "\n",
      "    pandas-datareader: 0.2.1-py35_0\n",
      "    requests-file:     1.4.1-py35_0\n",
      "\n",
      "Fetching packages ...\n",
      "requests-file- 100% |################################| Time: 0:00:00   8.40 MB/s\n",
      "pandas-datarea 100% |################################| Time: 0:00:00   2.53 MB/s\n",
      "Extracting packages ...\n",
      "[      COMPLETE      ]|###################################################| 100%\n",
      "Linking packages ...\n",
      "[      COMPLETE      ]|###################################################| 100%\n"
     ]
    }
   ],
   "source": [
    "!conda install pandas-datareader -y"
   ]
  },
  {
   "cell_type": "code",
   "execution_count": 12,
   "metadata": {
    "collapsed": false
   },
   "outputs": [
    {
     "data": {
      "text/plain": [
       "<matplotlib.axes._subplots.AxesSubplot at 0x7fd4d7e27cc0>"
      ]
     },
     "execution_count": 12,
     "metadata": {},
     "output_type": "execute_result"
    },
    {
     "data": {
      "image/png": "[encoded data removed]",
      "text/plain": [
       "<matplotlib.figure.Figure at 0x7fd4d7f3be80>"
      ]
     },
     "metadata": {},
     "output_type": "display_data"
    }
   ],
   "source": [
    "import pandas_datareader.data as web\n",
    "import datetime\n",
    "symbol=\"AAPL\"\n",
    "day_start=datetime.datetime(2015,1,1)\n",
    "day_end = datetime.datetime(2016,12,29)\n",
    "df3 = web.DataReader(symbol,\"yahoo\",day_start,day_end)\n",
    "df3.Close.plot()"
   ]
  },
  {
   "cell_type": "markdown",
   "metadata": {},
   "source": [
    "## Q7. ä½ çæ¹¯å\n",
    "(æè«å¯§åºé¡)\n",
    "\n",
    "å¾åå¾å~ æä¸é»æ¹¯å(éæ¹¯åãéæ¹¯åãç ´æ¹¯å)\n",
    "\n",
    "æä¸å¤©æ¹¯åæé²æ¹¯è£¡é¢äº!! \n",
    "\n",
    "æé¾é¾å¾è£¡é¢æµ®äºåºä¾èªªï¼ãä½ æçæ¯1.éæ¹¯åã2.éæ¹¯åéæ¯3.ç ´æ¹¯ååï¼ã\n",
    "\n",
    "è¼¸å",
    "¥ï¼1, 2, 3 å",
    "¶ä¸­ä¸åæ¸å­\n",
    "\n",
    "è¼¸åºï¼ç¶è¼¸å",
    "¥çº1æ2  å°åº ãä½ ä¸èª å¯¦~ä½ ææ²ææéæ¹¯åãï¼ä¸¦åéè¦ä¸æ¬¡åé¡ï¼ä¸¦åè¦æ±è¼¸å",
    "¥ç­æ¡\n",
    "\n",
    "ç¶è¼¸å",
    "¥çº3   å°åºãè«æ¾çé¾èå¸«é åä½ çç ´æ¹¯åã"
   ]
  },
  {
   "cell_type": "code",
   "execution_count": 21,
   "metadata": {
    "collapsed": false
   },
   "outputs": [
    {
     "name": "stdout",
     "output_type": "stream",
     "text": [
      "ä½ æçæ¯1.éæ¹¯åã2.éæ¹¯åéæ¯3.ç ´æ¹¯ååï¼\n",
      "1\n",
      "ä½ ä¸èª å¯¦~ä½ ææ²ææéæ¹¯å\n",
      "å¹¹ä½ èå",
      "çé¡ç®\n",
      "ä½ æçæ¯1.éæ¹¯åã2.éæ¹¯åéæ¯3.ç ´æ¹¯ååï¼\n",
      "2\n",
      "ä½ ä¸èª å¯¦~ä½ ææ²ææéæ¹¯å\n",
      "å¹¹ä½ èå",
      "çé¡ç®\n",
      "ä½ æçæ¯1.éæ¹¯åã2.éæ¹¯åéæ¯3.ç ´æ¹¯ååï¼\n",
      "9\n",
      "å¹¹ä½ èå",
      "çé¡ç®\n",
      "ä½ æçæ¯1.éæ¹¯åã2.éæ¹¯åéæ¯3.ç ´æ¹¯ååï¼\n",
      "3\n",
      "è«æ¾çé¾èå¸«é åä½ çç ´æ¹¯å\n"
     ]
    }
   ],
   "source": [
    "guesswhat = 0\n",
    "while guesswhat < 1:\n",
    "    print(\"ä½ æçæ¯1.éæ¹¯åã2.éæ¹¯åéæ¯3.ç ´æ¹¯ååï¼\")\n",
    "    whichone = input()\n",
    "    whichone =int(whichone)\n",
    "    if whichone==1:\n",
    "        print(\"ä½ ä¸èª å¯¦~ä½ ææ²ææéæ¹¯å\")\n",
    "    if whichone==3:\n",
    "        print(\"è«æ¾çé¾èå¸«é åä½ çç ´æ¹¯å\")\n",
    "        break\n",
    "    if whichone==2:\n",
    "        print(\"ä½ ä¸èª å¯¦~ä½ ææ²ææéæ¹¯å\")\n",
    "    if (whichone !=1 or 2 or 3):\n",
    "        print(\"å¹¹ä½ èå",
    "çé¡ç®\")"
   ]
  },
  {
   "cell_type": "markdown",
   "metadata": {},
   "source": [
    "## Q8. äºæ¸æ½é»ç³»çµ±\n",
    "\n",
    "åè¨­æååä½åå­¸çç­ç´, åå®å¦ä¸ãä½ ç¶èå¸«æ³æ½åå­¸ä¸ä¾å Python ç¿é¡, æ¯æ¬¡æ½ä¸ä½ãåæåéµ (å¦ `Return`) æææ½ä¸ä¸ä½ãä¸å¯ä»¥æéè¦, ç´å°æ½å®å°±ä¸èª²ã"
   ]
  },
  {
   "cell_type": "code",
   "execution_count": 10,
   "metadata": {
    "collapsed": false
   },
   "outputs": [],
   "source": [
    "students = [\"å³åè«­\", \"é§éºé²\", \"æç´ ä¾\", \"é³èè¾°\", \"æ¥æå\", \"é»ä¾å\", \"é³å§µç¼\", \"é¾å§¿ä¼¶\", \"é³å¾·å©\", \"æ½ç§æ",
    "§\"]"
   ]
  },
  {
   "cell_type": "code",
   "execution_count": null,
   "metadata": {
    "collapsed": true
   },
   "outputs": [],
   "source": [
    "from ipywidgets import interact, interact_manual\n",
    "def Class:\n",
    "    for  i in students:\n",
    "    "
   ]
  },
  {
   "cell_type": "markdown",
   "metadata": {},
   "source": [
    "## Q9. æ²è¾¦æ³, æå®³ç¾\n",
    "\n",
    "éæ¯ Google Code Jam (Google çç¨å¼æ¯è³½) è³æ ¼è³½ä¸­çä¸é¡:\n",
    "\n",
    "(åé¡ç®å¨éè£¡, éè£¡ä¸æ¯ç¿»è­¯, åªæ¯ç",
    "§åé¡æèªªæ, ç¥ç¥ç°¡åä¸é»é»)\n",
    "\n",
    "ä½ èªè­çæåæ¯ä¸åæ­åçä¸»å±, ä½ å¨é¦æ¼æä¸æå°å ´ (éæ¯ä»éº¼æå), ä½æ¯ä½ å¸æçµææå¥¹æå¾å°å",
    "¨å ´èµ·ç«é¼æ!!\n",
    "\n",
    "ä½ æéº¼åå¾å°éç¨®äºå¢, åä¾ä½ ç¨åç¨®åå£çææ®µ, æå¾å°ãææãä¾è³çãå®³ç¾ææ¸ããéãå®³ç¾ææ¸ãæ¯ä»éº¼å¢? åä¾å°±æ¯å¦ææçå®³ç¾ææ¸æ¯ 5, é£å°±æ¯æè¦çå°æ 5 åäººèµ·ç«ææ, æææè·èèµ·ç«ææãå®³ç¾ææ¸æ¯ 0 çè©±, é£æ²äººææä»é½æææã\n",
    "\n",
    "ç¾å¨çåé¡å°±æ¯: å¯è½æäºå®³ç¾ææ¸é«çè½ç¾å¨è£¡é¢, å¦æææçäººä¸å¤ , ä»åå°±ä¸æèµ·ä¾ææ! éè©²å¦ä½æ¯å¥½? å¾å®¹æ, ä½ å°±å®æä¸å å®³ç¾ææ¸æ¯ 0 çæåé²å», æå°è¦å®æå¤å°åæåå°±æ¯æåä»å¤©è¦ç®çã\n",
    "\n",
    "æåæå¹¾åç¬¦è, $T$ å $S_i$ è¦è§£èªªä¸ä¸ã\n",
    "\n",
    "$T$ æ¯ææè§ç¾äººæ¸ (ç¶ç¶ä¸å",
    "æ¬ä½ åå¡çæå), æååè¨­:\n",
    "\n",
    "$$1 \\leq T \\leq 100$$\n",
    "\n",
    "æååè¨­ $S_{\\max}$ æ¯è½ç¾ä¸­æé«çå®³ç¾ææ¸, $S_i$ æ¯å®³ç¾ææ¸çº $i$ çäººæ¸ãæåæç¥é $S_{\\max}$ æ¯å¤å°, ä¹ç¥é\n",
    "\n",
    "$$S_0, S_1, \\ldots, S_{\\max}$$\n",
    "\n",
    "çäººæ¸ã\n",
    "\n",
    "ç¾å¨æåæå¾å°çæ",
    "å ±æ¯ä¸åå­ä¸² (æåå« aud), å¦:\n",
    "\n",
    "#### [ç¯ä¾ä¸]\n",
    "\n",
    "\"4 11111\"\n",
    "\n",
    "éç¬¬ä¸å 4 æ¯æé«å®³ç¾ææ¸ $S_{\\max}$ æ¯ 4, ç¶å¾å¾é¢æ¯æ¯åå®³ç¾ææ¸çäººæ¸, å¦ $S_0$ äººæ¸æ¯ 1ãäºº, $S_1$ ä¹æ¯ 1 äºº, ä¸ç´å° $S_{\\max} = S_4$ ä¹æ¯ä¸äººã\n",
    "\n",
    "éææåè¦ç®åºçç­æ¡æè©²æ¯ 0 (ä¸éè¦å æåé²å»!!)\n",
    "\n",
    "#### [ç¯ä¾äº]\n",
    "aud = \"1 09\"<br>\n",
    "è¼¸åº: 1\n",
    "\n",
    "#### [ç¯ä¾ä¸]\n",
    "aud = \"5 110011\"<br>\n",
    "è¼¸åº: 2\n",
    "\n",
    "#### [ç¯ä¾å]\n",
    "aud = \"0 1\"<br>\n",
    "è¼¸åº: 0\n",
    "\n",
    "ç¾å¨å°±æ¯æ³æ³ä»»æç¬¦åè¦æ±ç aud è¼¸å",
    "¥, ä½ è¼¸åºæè©²æ¯ä»éº¼?\n",
    "\n",
    "(ç¶ç¶ä½ ä¹å¯ä»¥æ³æåè¦äºæ¸ç¢ç aud éåå­ä¸²è¦æéº¼å?)"
   ]
  },
  {
   "cell_type": "code",
   "execution_count": null,
   "metadata": {
    "collapsed": true
   },
   "outputs": [],
   "source": []
  },
  {
   "cell_type": "markdown",
   "metadata": {},
   "source": [
    "## Q10. éæ¼¢èµ°è·¯ Random Walk\n",
    "\n",
    "è¨­ä¸åæ¸åå¾ 0 éå§ãä¸ä¸åæ¸å­è¦åå°±å  1, è¦åå°±æ¸ 1 (äºæ¸æ±ºå®è¦å è¦æ¸)ãå 500 æ¬¡, ç«åºéåæ¸åã"
   ]
  },
  {
   "cell_type": "code",
   "execution_count": null,
   "metadata": {
    "collapsed": true
   },
   "outputs": [],
   "source": [
    "def walker:\n",
    "    "
   ]
  },
  {
   "cell_type": "markdown",
   "metadata": {},
   "source": [
    "## èªå·±åºé¡èªå·±å\n",
    "\n",
    "èªå·±åºè³å¤ä¸é¡æææçé¡ç®, æå¤ä¸é¡ã"
   ]
  },
  {
   "cell_type": "code",
   "execution_count": null,
   "metadata": {
    "collapsed": true
   },
   "outputs": [],
   "source": []
  }
 ],
 "metadata": {
  "kernelspec": {
   "display_name": "Python [Root]",
   "language": "python",
   "name": "Python [Root]"
  },
  "language_info": {
   "codemirror_mode": {
    "name": "ipython",
    "version": 3
   },
   "file_extension": ".py",
   "mimetype": "text/x-python",
   "name": "python",
   "nbconvert_exporter": "python",
   "pygments_lexer": "ipython3",
   "version": "3.5.1"
  }
 },
 "nbformat": 4,
 "nbformat_minor": 2
}
