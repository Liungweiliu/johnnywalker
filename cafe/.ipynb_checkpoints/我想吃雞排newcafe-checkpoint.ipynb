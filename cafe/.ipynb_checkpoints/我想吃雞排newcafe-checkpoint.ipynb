{
 "cells": [
  {
   "cell_type": "code",
   "execution_count": 1,
   "metadata": {
    "collapsed": true
   },
   "outputs": [],
   "source": [
    "import pandas as pd\n",
    "coffeebean = pd.DataFrame([[\"衣索比亞 谷吉 吉德處理廠\",\"日曬\",\"淺中焙\",\"花香/覆盆子/藍莓\",\"藍莓果汁/杏桃/茶香\",\"$100\"],\n",
    "                    [\"哥斯大黎加 阿葛利惟德 帝比卡\",\"白蜜處理\",\"淺中焙\",\"麥芽/奶油香氣\",\"麥芽/杏仁/堅果巧克力\",\"$125\"],\n",
    "                    [\"巴拿馬 摩根莊園 藝伎\",\"水洗\",\"淺中焙\",\"檸檬/茉莉花/咖啡花\",\"柳橙/柚子/焦糖/可可\",\"$200\"]], columns = [\"產區\",\"處理法\",\"焙度\",\"香氣\",\"風味\",\"價格\"],index=[\"1\",\"2\",\"3\"])"
   ]
  },
  {
   "cell_type": "markdown",
   "metadata": {},
   "source": [
    "# 1/7亮緯+瑄正但迴圈一直出不來"
   ]
  },
  {
   "cell_type": "code",
   "execution_count": 7,
   "metadata": {
    "collapsed": false
   },
   "outputs": [
    {
     "name": "stdout",
     "output_type": "stream",
     "text": [
      "cafe：您好，歡迎光臨咖啡廳\n",
      "cafe：請問今天需要什麼嗎？咖啡、甜點還是純聊天？\n",
      "you：coffee\n",
      "cafe：店裡目前有單品、義式濃縮，以及拿鐵可供選擇喔!\n",
      "you：single origin\n",
      "cafe：這是本期豆單提供您參考，決定後再麻煩您通知我^^\n",
      "                產區   處理法   焙度          香氣           風味    價格\n",
      "1    衣索比亞 谷吉 吉德處理廠    日曬  淺中焙   花香/覆盆子/藍莓   藍莓果汁/杏桃/茶香  $100\n",
      "2  哥斯大黎加 阿葛利惟德 帝比卡  白蜜處理  淺中焙     麥芽/奶油香氣  麥芽/杏仁/堅果巧克力  $125\n",
      "3      巴拿馬 摩根莊園 藝伎    水洗  淺中焙  檸檬/茉莉花/咖啡花  柳橙/柚子/焦糖/可可  $200\n",
      "you：1\n",
      "cafe：請問沖煮方式要用手沖、賽風還是愛樂壓呢?\n",
      "you：1\n",
      "好的，ㄧ杯用1泡的1，請稍等一下\n",
      "你點的咖啡好了\n"
     ]
    }
   ],
   "source": [
    "import time\n",
    "print('cafe：您好，歡迎光臨咖啡廳')\n",
    "print('cafe：請問今天需要什麼嗎？咖啡、甜點還是純聊天？')\n",
    "reply = input('you：')\n",
    "if(\"推薦\" in reply):\n",
    "    print('cafe：這是我們的招牌，您想試試看ㄇ?')\n",
    "    a1 = input(\"you：\")\n",
    "elif any(i in reply for i in(\"coffee\",\"咖啡\",\"COFFEE\",\"Coffee\" )):\n",
    "    print(\"cafe：店裡目前有單品、義式濃縮，以及拿鐵可供選擇喔!\")\n",
    "    a2 = input(\"you：\")\n",
    "    #單品#肥宅介紹\n",
    "    if any(i in a2 for i in(\"單品\",\"single origin\",\"espresso\")):\n",
    "        print(\"cafe：這是本期豆單提供您參考，決定後再麻煩您通知我^^\")\n",
    "        print(coffeebean)\n",
    "        a4 = input(\"you：\")\n",
    "        print(\"cafe：請問沖煮方式要用手沖、賽風還是愛樂壓呢?\")\n",
    "        a5 = input(\"you：\")\n",
    "        print(\"好的，ㄧ杯以\"+a5+'沖煮的'+a4+'，請稍等一下')\n",
    "        time.sleep(1)\n",
    "        print('你點的咖啡好囉~')\n",
    "        print(\"為你介紹一下，這支豆子有明顯的茉莉花香，甜度豐富，body飽滿，色澤偏紅是它的特色\")\n",
    "        time.sleep(1)\n",
    "        print(\"我也非常喜歡這隻豆子的甜感\")\n",
    "        time.sleep(1)\n",
    "        print(\"就我像喜歡你全糖的笑容一樣\")\n",
    "        print(\"可以讓我成為你專屬的螞蟻嗎?=)\")\n",
    "        print(\"我的line就跟wifi密碼一樣<3\")\n",
    "    #義式濃縮\n",
    "    elif any(i in a2 for i in(\"濃縮\",\"義式\",\"espresso\")):\n",
    "        print('好的，ㄧ杯義式濃縮咖啡，請稍等一下')\n",
    "        time.sleep(1)\n",
    "        print('你點的咖啡好了')\n",
    "    #拿鐵#JOJO魔法\n",
    "    elif(\"拿鐵\" in a2):\n",
    "        print(\"cafe：請您選擇一種喜歡的圖案，選擇好之後再麻煩通知我^^\")\n",
    "        print(\"愛心\",\"三葉\",\"天鵝\")\n",
    "        a5 = input(\"you：\")\n",
    "        if any(i in a5 for i in(\"愛心\",\"三葉\",\"天鵝\")):\n",
    "            print(\"cafe：好的，ㄧ杯\"+a5+'的拉花拿鐵，請稍等一下')\n",
    "            time.sleep(1)\n",
    "            print(\"這是我為你特製的拿鐵歐~\")\n",
    "            print(\"讓我幫你施加魔法嗎\")\n",
    "            print(\"來，1\")\n",
    "            time.sleep(1)\n",
    "            print(\"2\")\n",
    "            time.sleep(1)\n",
    "            print(\"3\")\n",
    "            time.sleep(2)\n",
    "            print(\"JoJo~\")\n",
    "elif any(i in reply for i in(\"dessert\",\"cake\",\"蛋糕\",\"點心\",\"甜點\")):\n",
    "    print(\"cafe：您要哪一種呢?\")\n",
    "    print(\"店裡目前有豪豪ㄘ巧克力蛋糕、敲好ㄘ抹茶蛋糕和大力水手卜派\")\n",
    "    a3 = input(\"you：\")\n",
    "    print(\"cafe：好的，ㄧ份\"+a3+'，請稍等一下')\n",
    "    time.sleep(1)\n",
    "    print('cafe：這是您的點心，請慢用')\n",
    "    print(\"小提醒:你點的\"+a3+\"，每100公克，有熱量260大卡，蛋白質14.6克，脂肪58公克，還有很多很多糖\")\n",
    "    time.sleep(1)\n",
    "    print(\"你媽知道你在這吃垃圾食物嗎?\")\n",
    "    time.sleep(1)\n",
    "    print(\"還不給我滾去健身房深蹲\")\n",
    "elif any(i in reply for i in(\"聊天\",\"chat\",\"談談\",\"講\")):\n",
    "    print(\"cafe：最近還好嗎?\")\n",
    "    a6 = input(\"you：\")\n",
    "    if any(i in a6 for i in(\"男朋友\",\"女朋友\",\"男票\",\"女票\",\"girlfriend\",\"boyfriend\",\"gf\",\"bf\")):\n",
    "        print(\"cafe：真的嗎?\")\n",
    "    elif any(i in a6 for i in(\"line\",\"賴\",\"Line\",\"LINE\")):\n",
    "        print(\"跟我們店裡wifi密碼一樣喔=)\")\n",
    "        a7 = input(\"you:\")\n",
    "        if any(i in a7 for i in(\"開心\",\"高興\",\"興奮\",\"難過\",\"傷心\",\"累\",\"沮喪\")):\n",
    "            print(\"cafe：為什麼會這樣呢?\")\n",
    "            a6 = input(\"you:\")\n",
    "            print(\"cafe：如果是因為\"+a6+\"我也會這麼覺得\")\n",
    "        elif any(\"真的\" in a7):\n",
    "            print(\"cafe：拍拍\")\n",
    "        elif any(i in a7 for i in(\"line\",\"賴\",\"Line\",\"LINE\")):\n",
    "            print(\"跟我們店裡wifi密碼一樣喔=)\")\n",
    "elif any(i in reply for i in(\"line\",\"賴\",\"Line\",\"LINE\")):\n",
    "    print(\"跟我們店裡wifi密碼一樣喔=)\")\n",
    "else:\n",
    "    print(\"這裡沒有\"+reply+\"，直走左轉出口，感謝您的光臨\")"
   ]
  },
  {
   "cell_type": "code",
   "execution_count": null,
   "metadata": {
    "collapsed": true
   },
   "outputs": [],
   "source": []
  }
 ],
 "metadata": {
  "anaconda-cloud": {},
  "kernelspec": {
   "display_name": "Python [Root]",
   "language": "python",
   "name": "Python [Root]"
  },
  "language_info": {
   "codemirror_mode": {
    "name": "ipython",
    "version": 3
   },
   "file_extension": ".py",
   "mimetype": "text/x-python",
   "name": "python",
   "nbconvert_exporter": "python",
   "pygments_lexer": "ipython3",
   "version": "3.5.2"
  }
 },
 "nbformat": 4,
 "nbformat_minor": 0
}
