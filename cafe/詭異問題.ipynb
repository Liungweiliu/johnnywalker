{
 "cells": [
  {
   "cell_type": "code",
   "execution_count": 1,
   "metadata": {
    "collapsed": true
   },
   "outputs": [],
   "source": [
    "import pandas as pd\n",
    "coffeebean = pd.DataFrame([[\"衣索比亞 谷吉 吉德處理廠\",\"日曬\",\"淺中焙\",\"花香/覆盆子/藍莓\",\"藍莓果汁/杏桃/茶香\",\"$100\"],\n",
    "                    [\"哥斯大黎加 阿葛利惟德 帝比卡\",\"白蜜處理\",\"淺中焙\",\"麥芽/奶油香氣\",\"麥芽/杏仁/堅果巧克力\",\"$125\"],\n",
    "                    [\"巴拿馬 摩根莊園 藝伎\",\"水洗\",\"淺中焙\",\"檸檬/茉莉花/咖啡花\",\"柳橙/柚子/焦糖/可可\",\"$200\"]], columns = [\"產區\",\"處理法\",\"焙度\",\"香氣\",\"風味\",\"價格\"],index=[\"1\",\"2\",\"3\"])"
   ]
  },
  {
   "cell_type": "code",
   "execution_count": 15,
   "metadata": {
    "collapsed": false
   },
   "outputs": [
    {
     "ename": "SyntaxError",
     "evalue": "invalid syntax (<ipython-input-15-c3d0b31f34eb>, line 35)",
     "output_type": "error",
     "traceback": [
      "\u001b[1;36m  File \u001b[1;32m\"<ipython-input-15-c3d0b31f34eb>\"\u001b[1;36m, line \u001b[1;32m35\u001b[0m\n\u001b[1;33m    elif \"cake\"or\"點心\"or\"蛋糕\"or\"dessert\" in reply:\u001b[0m\n\u001b[1;37m       ^\u001b[0m\n\u001b[1;31mSyntaxError\u001b[0m\u001b[1;31m:\u001b[0m invalid syntax\n"
     ]
    }
   ],
   "source": [
    "import time\n",
    "print('cafe：您好，歡迎光臨炎龍咖啡廳')\n",
    "print('cafe：請問今天需要什麼嗎？咖啡、甜點還是純聊天？')\n",
    "t = 1\n",
    "while t<=3:\n",
    "    reply = input('you：')\n",
    "    if(\"推薦\" in reply):\n",
    "        print('cafe：這是我們的招牌，您想試試看ㄇ?')\n",
    "        a1 = input(\"you：\")\n",
    "    elif(\"coffee\"or\"咖啡\"or\"COFFEE\"or\"Coffee\" in reply):\n",
    "        print(\"cafe：店裡目前有單品、義式濃縮，以及拿鐵可供選擇喔!\")\n",
    "        a2 = input(\"you：\")\n",
    "        if (\"單品\"or\"single origin\" in a2):\n",
    "            print(\"cafe：這是本期豆單提供您參考，決定後再麻煩您通知我^^\")\n",
    "            print(coffeebean)\n",
    "            a4 = input(\"you：\")\n",
    "            print(\"cafe：請問沖煮方式要用手沖、賽風還是愛樂壓呢?\")\n",
    "            a5 = input(\"you：\")\n",
    "            print(\"好的，ㄧ杯用\"+a5+'泡ㄉㄜ，請稍等一下')\n",
    "            time.sleep(1)\n",
    "            print('你點的咖啡好了')\n",
    "            break;\n",
    "        elif (\"拿\" in a2):\n",
    "            print(\"你想要什麼圖案呢?啾咪~\")\n",
    "            print(拉花圖案)\n",
    "            a6 = input(\"you：\")\n",
    "            print(\"拉花中請稍後~\")\n",
    "            time.sleep(1)\n",
    "            print(\"這是我為你特製的拿鐵歐~\")\n",
    "            print(\"需要為你施加魔法嗎?\")\n",
    "            a7 = input(\"you:\")\n",
    "            break;\n",
    "        break;\n",
    "    break;\n",
    "    elif \"cake\"or\"點心\"or\"蛋糕\"or\"dessert\" in reply:\n",
    "        print(\"cafe：您要哪一種呢?\")\n",
    "        print(\"店裡目前有豪豪ㄘ巧克力蛋糕、敲好ㄘ抹茶蛋糕和大力水手卜派\")\n",
    "        a3 = input(\"you：\")\n",
    "        print(\"cafe：好的，ㄧ份\"+a3+'，請稍等一下')\n",
    "        time.sleep(1)\n",
    "        print('cafe：這是您的點心，請慢用')\n",
    "        break;\n",
    "    elif(\"聊天\"or\"chat\"in reply):\n",
    "        print(\"cafe：最近還好嗎?\")\n",
    "        a6 = input(\"you：\")\n",
    "        if(\"男朋友\"or\"女朋友\"or\"bf\"or\"gf\" in a6):\n",
    "            print(\"cafe：真的嗎?\")\n",
    "            a7 = input(\"you:\")\n",
    "            if any(i in a7 for i in(\"開心\",\"高興\",\"興奮\",\"難過\",\"傷心\",\"累\",\"沮喪\")):\n",
    "                print(\"cafe：為什麼會這樣呢?\")\n",
    "                a6 = input(\"you:\")\n",
    "                print(\"cafe：如果是因為\"+a6+\"我也會這麼覺得\")\n",
    "            elif(\"真的\" in a7):\n",
    "                print(\"cafe：拍拍\")\n",
    "                break;\n",
    "    else:\n",
    "        print(\"這裡沒有\"+reply+\"，直走左轉出口，感謝您的光臨\")\n",
    "    t = t + 1"
   ]
  },
  {
   "cell_type": "code",
   "execution_count": null,
   "metadata": {
    "collapsed": true
   },
   "outputs": [],
   "source": []
  }
 ],
 "metadata": {
  "kernelspec": {
   "display_name": "Python [Root]",
   "language": "python",
   "name": "Python [Root]"
  },
  "language_info": {
   "codemirror_mode": {
    "name": "ipython",
    "version": 3
   },
   "file_extension": ".py",
   "mimetype": "text/x-python",
   "name": "python",
   "nbconvert_exporter": "python",
   "pygments_lexer": "ipython3",
   "version": "3.5.2"
  }
 },
 "nbformat": 4,
 "nbformat_minor": 0
}
