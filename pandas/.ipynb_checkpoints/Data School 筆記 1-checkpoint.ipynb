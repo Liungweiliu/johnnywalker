{
 "cells": [
  {
   "cell_type": "markdown",
   "metadata": {},
   "source": [
    "# 1"
   ]
  },
  {
   "cell_type": "markdown",
   "metadata": {},
   "source": [
    "### Who is these video series for?\n",
    "### What is pandas?\n",
    "### How can you get pandas?\n",
    "### What can you expect from these videos?"
   ]
  },
  {
   "cell_type": "markdown",
   "metadata": {},
   "source": [
    "給想從事數據運算、數據分析、資料視覺化的人\n",
    "就熊貓r\n",
    "Anaconda\n",
    "每部影片會談一個許多學生曾問過的問題，並有機會回應觀眾的留言，結尾會教一個bonus tip"
   ]
  }
 ],
 "metadata": {
  "kernelspec": {
   "display_name": "Python [Root]",
   "language": "python",
   "name": "Python [Root]"
  },
  "language_info": {
   "codemirror_mode": {
    "name": "ipython",
    "version": 3
   },
   "file_extension": ".py",
   "mimetype": "text/x-python",
   "name": "python",
   "nbconvert_exporter": "python",
   "pygments_lexer": "ipython3",
   "version": "3.5.2"
  }
 },
 "nbformat": 4,
 "nbformat_minor": 0
}
