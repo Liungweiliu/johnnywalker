{
 "cells": [
  {
   "cell_type": "code",
   "execution_count": 3,
   "metadata": {
    "collapsed": false
   },
   "outputs": [
    {
     "name": "stdout",
     "output_type": "stream",
     "text": [
      "hi 蝦?\n",
      "拍拍\n",
      "hi 喔\n",
      "拍拍\n",
      "hi 顆顆\n",
      "拍拍\n"
     ]
    }
   ],
   "source": [
    "t = 1\n",
    "while t<=3:\n",
    "    message = input(\"hi \")\n",
    "    print(\"拍拍\")\n",
    "    t = t + 1"
   ]
  },
  {
   "cell_type": "code",
   "execution_count": 5,
   "metadata": {
    "collapsed": false
   },
   "outputs": [
    {
     "name": "stdout",
     "output_type": "stream",
     "text": [
      "肥宅 哭哭肥宅\n",
      "拍拍\n",
      "肥宅 臭臭肥宅\n",
      "拍拍\n",
      "肥宅 酸酸肥宅\n",
      "拍拍\n"
     ]
    }
   ],
   "source": [
    "t = 1\n",
    "while t<=3:\n",
    "    message = input(\"肥宅 \")\n",
    "    print(\"拍拍\")\n",
    "    t = t + 1"
   ]
  },
  {
   "cell_type": "code",
   "execution_count": 6,
   "metadata": {
    "collapsed": false
   },
   "outputs": [
    {
     "name": "stdout",
     "output_type": "stream",
     "text": [
      "Populating the interactive namespace from numpy and matplotlib\n"
     ]
    }
   ],
   "source": [
    "pylab inline"
   ]
  },
  {
   "cell_type": "code",
   "execution_count": 7,
   "metadata": {
    "collapsed": false
   },
   "outputs": [
    {
     "name": "stdout",
     "output_type": "stream",
     "text": [
      "hi 1\n",
      "拍拍\n",
      "hi 2\n",
      "拍拍\n",
      "hi 3\n",
      "拍拍\n"
     ]
    }
   ],
   "source": [
    "t = 1\n",
    "while t<=3:\n",
    "    message = input(\"hi \")\n",
    "    print(\"拍拍\")\n",
    "    t = t + 1\n"
   ]
  },
  {
   "cell_type": "code",
   "execution_count": 9,
   "metadata": {
    "collapsed": false
   },
   "outputs": [
    {
     "name": "stdout",
     "output_type": "stream",
     "text": [
      "真的嗎真der\n",
      "拍拍\n",
      "真的嗎bye bye\n",
      "拍拍\n",
      "真的嗎bye bye \n",
      "拍拍\n"
     ]
    }
   ],
   "source": [
    "message = \" \"\n",
    "while message != \"bye bye \":\n",
    "        message = input(\"真的嗎\")\n",
    "        print(\"拍拍\")"
   ]
  },
  {
   "cell_type": "code",
   "execution_count": null,
   "metadata": {
    "collapsed": false
   },
   "outputs": [
    {
     "name": "stdout",
     "output_type": "stream",
     "text": [
      "? 2\n",
      "這我沒聽過\n",
      "? 3\n",
      "這我沒聽過\n"
     ]
    }
   ],
   "source": [
    "t = 1\n",
    "while t<=10:\n",
    "    t = t + 1\n",
    "    message = input(\"? \")\n",
    "    if message == \"要不要去吃飯\":\n",
    "        print(\"好啊\")\n",
    "    elif message == \"吃什麼?\":\n",
    "        print(\"都可以阿\")\n",
    "    else:\n",
    "        print(\"這我沒聽過\")"
   ]
  },
  {
   "cell_type": "code",
   "execution_count": null,
   "metadata": {
    "collapsed": true
   },
   "outputs": [],
   "source": [
    "t = 1\n",
    "while t<=10:\n",
    "    t = t + 1\n",
    "    message = input(\"「你掉的是1.金湯匙、2.銀湯匙還是3.破湯匙啊？」 \")\n",
    "    if message == \"1\"or\"2\":\n",
    "        print(\"「你不誠實~你才沒有掉過湯匙」\")\n",
    "    if message == \"3 \":\n",
    "        print(\"「請找炎龍老師領回你的破湯匙」\")"
   ]
  },
  {
   "cell_type": "code",
   "execution_count": null,
   "metadata": {
    "collapsed": true
   },
   "outputs": [],
   "source": []
  }
 ],
 "metadata": {
  "anaconda-cloud": {},
  "kernelspec": {
   "display_name": "Python [Root]",
   "language": "python",
   "name": "Python [Root]"
  },
  "language_info": {
   "codemirror_mode": {
    "name": "ipython",
    "version": 3
   },
   "file_extension": ".py",
   "mimetype": "text/x-python",
   "name": "python",
   "nbconvert_exporter": "python",
   "pygments_lexer": "ipython3",
   "version": "3.5.2"
  }
 },
 "nbformat": 4,
 "nbformat_minor": 0
}
